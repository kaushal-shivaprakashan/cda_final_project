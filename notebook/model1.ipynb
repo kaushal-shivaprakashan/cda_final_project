{
 "cells": [
  {
   "cell_type": "code",
   "execution_count": 1,
   "id": "41ef807f-b05d-43be-9d45-de1c9f509c51",
   "metadata": {},
   "outputs": [
    {
     "name": "stderr",
     "output_type": "stream",
     "text": [
      "2025/05/10 12:46:28 INFO mlflow.tracking.fluent: Experiment with name 'CitiBike_Forecasting' does not exist. Creating a new experiment.\n"
     ]
    },
    {
     "name": "stdout",
     "output_type": "stream",
     "text": [
      "[baseline] MAE = 31.20\n"
     ]
    }
   ],
   "source": [
    "# model1_baseline.py\n",
    "\n",
    "import pandas as pd\n",
    "from sklearn.metrics import mean_absolute_error\n",
    "import mlflow\n",
    "\n",
    "# ──────────────────────────────────────────────────────────────────────────────\n",
    "PARQUET_PATH = \"/Users/kaushalshivaprakash/Desktop/project3/data/processed/cleaned_citibike/citibike_2023_top3.parquet\"\n",
    "EXPERIMENT   = \"CitiBike_Forecasting\"\n",
    "TRAIN_FRAC   = 0.8\n",
    "# ──────────────────────────────────────────────────────────────────────────────\n",
    "\n",
    "def load_and_aggregate(path):\n",
    "    df = pd.read_parquet(path)\n",
    "    df[\"datetime\"] = df[\"started_at\"].dt.floor(\"H\")\n",
    "    agg = df.groupby(\"datetime\").size().reset_index(name=\"count\")\n",
    "    agg = agg.sort_values(\"datetime\").reset_index(drop=True)\n",
    "    return agg\n",
    "\n",
    "def train_test_split_ts(df, frac):\n",
    "    idx = int(len(df) * frac)\n",
    "    return df.iloc[:idx], df.iloc[idx:]\n",
    "\n",
    "def main():\n",
    "    mlflow.set_experiment(EXPERIMENT)\n",
    "    df = load_and_aggregate(PARQUET_PATH)\n",
    "    train, test = train_test_split_ts(df, TRAIN_FRAC)\n",
    "\n",
    "    # Baseline: predict train mean for every test point\n",
    "    baseline_pred = train[\"count\"].mean()\n",
    "    preds = [baseline_pred] * len(test)\n",
    "    mae = mean_absolute_error(test[\"count\"], preds)\n",
    "\n",
    "    with mlflow.start_run(run_name=\"baseline_mean\"):\n",
    "        mlflow.log_param(\"model_type\", \"baseline_mean\")\n",
    "        mlflow.log_param(\"train_count\", len(train))\n",
    "        mlflow.log_param(\"test_count\", len(test))\n",
    "        mlflow.log_metric(\"mae\", mae)\n",
    "\n",
    "    print(f\"[baseline] MAE = {mae:.2f}\")\n",
    "\n",
    "if __name__ == \"__main__\":\n",
    "    main()"
   ]
  },
  {
   "cell_type": "code",
   "execution_count": null,
   "id": "51767866-4273-404c-b4c9-d501e5b1e57f",
   "metadata": {},
   "outputs": [],
   "source": []
  }
 ],
 "metadata": {
  "kernelspec": {
   "display_name": "Python 3 (ipykernel)",
   "language": "python",
   "name": "python3"
  },
  "language_info": {
   "codemirror_mode": {
    "name": "ipython",
    "version": 3
   },
   "file_extension": ".py",
   "mimetype": "text/x-python",
   "name": "python",
   "nbconvert_exporter": "python",
   "pygments_lexer": "ipython3",
   "version": "3.11.11"
  }
 },
 "nbformat": 4,
 "nbformat_minor": 5
}
